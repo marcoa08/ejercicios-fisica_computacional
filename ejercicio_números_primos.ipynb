{
  "nbformat": 4,
  "nbformat_minor": 0,
  "metadata": {
    "colab": {
      "name": "ejercicio números primos.ipynb",
      "provenance": [],
      "collapsed_sections": [],
      "authorship_tag": "ABX9TyM5VxwlMyeEKGbEBZJkV6ep",
      "include_colab_link": true
    },
    "kernelspec": {
      "name": "python3",
      "display_name": "Python 3"
    },
    "language_info": {
      "name": "python"
    }
  },
  "cells": [
    {
      "cell_type": "markdown",
      "metadata": {
        "id": "view-in-github",
        "colab_type": "text"
      },
      "source": [
        "<a href=\"https://colab.research.google.com/github/marcoa08/ejercicios-fisica_computacional/blob/main/ejercicio_n%C3%BAmeros_primos.ipynb\" target=\"_parent\"><img src=\"https://colab.research.google.com/assets/colab-badge.svg\" alt=\"Open In Colab\"/></a>"
      ]
    },
    {
      "cell_type": "code",
      "metadata": {
        "colab": {
          "base_uri": "https://localhost:8080/"
        },
        "id": "y-VUuwexAPSV",
        "outputId": "5fe75bfd-930f-4da4-c390-8624bbcc3738"
      },
      "source": [
        "import math\n",
        "def isPrimefor(numero):\n",
        "  flag=0\n",
        "    \n",
        "    \n",
        "  if numero==2:\n",
        "       flag=0\n",
        "  elif numero==1:\n",
        "       flag=1\n",
        "  else:\n",
        "    for i in range (2,int(numero/2)+1):\n",
        "      if numero%i==0:\n",
        "        flag=False\n",
        "        print('tu numero es divisible entre', i, 'y', int(numero/i))\n",
        "        break\n",
        "  return flag\n",
        "\n",
        "print('Inserte número')\n",
        "p= int(float (input(\"\")))\n",
        "\n",
        "if isPrimefor(p):\n",
        "  print ('es primo')\n",
        "else:\n",
        "  print ('no es primo')"
      ],
      "execution_count": null,
      "outputs": [
        {
          "output_type": "stream",
          "text": [
            "Inserte número\n",
            "242452\n",
            "tu numero es divisible entre 2 y 121226\n",
            "no es primo\n"
          ],
          "name": "stdout"
        }
      ]
    }
  ]
}