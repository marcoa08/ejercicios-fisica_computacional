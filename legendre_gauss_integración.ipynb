{
  "nbformat": 4,
  "nbformat_minor": 0,
  "metadata": {
    "colab": {
      "name": "legendre-gauss integración.ipynb",
      "provenance": [],
      "collapsed_sections": [],
      "authorship_tag": "ABX9TyNRXrOhhdqIVT/TsBjVvxOI",
      "include_colab_link": true
    },
    "kernelspec": {
      "name": "python3",
      "display_name": "Python 3"
    },
    "language_info": {
      "name": "python"
    }
  },
  "cells": [
    {
      "cell_type": "markdown",
      "metadata": {
        "id": "view-in-github",
        "colab_type": "text"
      },
      "source": [
        "<a href=\"https://colab.research.google.com/github/marcoa08/ejercicios-fisica_computacional/blob/main/legendre_gauss_integraci%C3%B3n.ipynb\" target=\"_parent\"><img src=\"https://colab.research.google.com/assets/colab-badge.svg\" alt=\"Open In Colab\"/></a>"
      ]
    },
    {
      "cell_type": "code",
      "metadata": {
        "colab": {
          "base_uri": "https://localhost:8080/"
        },
        "id": "RcmbW0Ei734U",
        "outputId": "ffa0a009-0093-4160-fc01-62dff7db2fab"
      },
      "source": [
        "import numpy as np\n",
        "def function(x):\n",
        "  return 2*x\n",
        "  #return np.sin(x**2)\n",
        "def integral(n,liminf,limsup):\n",
        "  xi, weights = np.polynomial.legendre.leggauss(n)\n",
        "  numericalintegral=0\n",
        "  for i in range(0,n):\n",
        "    numericalintegral += weights[i]*function((limsup-liminf)/2*xi[i]+(limsup+liminf)/2)\n",
        "  return ((limsup-liminf)/2)*numericalintegral\n",
        "\n",
        "print(\"¿Desde qué punto quieres calcular la integral?\")\n",
        "puntoinicial = float (input(\"\"))\n",
        "print(\"¿Hasta qué punto quieres calcular la integral?\")\n",
        "puntofinal = float (input(\"\"))\n",
        "print(\"¿Cuál es el grado del polinomio que quiere trabajar\")\n",
        "grado = int (input(\"\")) \n",
        "\n",
        "print(\"El valor numérico de tu integral es: \", integral(grado,puntoinicial,puntofinal))"
      ],
      "execution_count": null,
      "outputs": [
        {
          "output_type": "stream",
          "name": "stdout",
          "text": [
            "¿Desde qué punto quieres calcular la integral?\n",
            "0\n",
            "¿Hasta qué punto quieres calcular la integral?\n",
            "5\n",
            "¿Cuál es el grado del polinomio que quiere trabajar\n",
            "2\n",
            "El valor numérico de tu integral es:  25.0\n"
          ]
        }
      ]
    }
  ]
}