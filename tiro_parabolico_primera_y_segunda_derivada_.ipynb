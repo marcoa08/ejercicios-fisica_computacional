{
  "nbformat": 4,
  "nbformat_minor": 0,
  "metadata": {
    "colab": {
      "name": "tiro parabolico primera y segunda derivada .ipynb",
      "provenance": [],
      "collapsed_sections": [],
      "authorship_tag": "ABX9TyPucsCQVwlcnIFL8Vdie+SZ",
      "include_colab_link": true
    },
    "kernelspec": {
      "name": "python3",
      "display_name": "Python 3"
    },
    "language_info": {
      "name": "python"
    }
  },
  "cells": [
    {
      "cell_type": "markdown",
      "metadata": {
        "id": "view-in-github",
        "colab_type": "text"
      },
      "source": [
        "<a href=\"https://colab.research.google.com/github/marcoa08/ejercicios-fisica_computacional/blob/main/tiro_parabolico_primera_y_segunda_derivada_.ipynb\" target=\"_parent\"><img src=\"https://colab.research.google.com/assets/colab-badge.svg\" alt=\"Open In Colab\"/></a>"
      ]
    },
    {
      "cell_type": "code",
      "metadata": {
        "colab": {
          "base_uri": "https://localhost:8080/",
          "height": 663
        },
        "id": "N1hidq-I9EYZ",
        "outputId": "bf2ce6e0-6e09-4ad1-aed2-65ae6a59a179"
      },
      "source": [
        "#Aguilar Cárcamo Marco Antonio\n",
        "#Fecha 27/09/21\n",
        "#Programa de primera y segunda derivada del oscilador armónico con gráficas\n",
        "import numpy as np\n",
        "import matplotlib.pyplot as plt\n",
        "\n",
        "#Definir variables\n",
        "def function1(t):#funcion posicion x\n",
        "  return x0 + Vx0*t\n",
        "def function2(t):#velocidad en x\n",
        "  return (function1(t+h) - function1(t))/h\n",
        "def function3(t):#aceleración en x\n",
        "   return (function2(t+h) - function2(t))/h\n",
        "\n",
        "def function4(t):#funcion\n",
        "  return y0 + Vy0*t - (1/2)*g*t**2\n",
        "def function5(t):#primera derivada\n",
        "  return (function4(t+h) - function4(t))/h\n",
        "def function6(t):\n",
        "   return (function5(t+h) - function5(t))/h\n",
        "\n",
        "\n",
        "#Iniciar variables\n",
        "g=9.8\n",
        "#X\n",
        "print ('Inserte la delta de cambio h')\n",
        "h= float (input(\"\"))\n",
        "print ('Posición inicial en x [m]')\n",
        "x0= float (input(\"\"))\n",
        "print ('Posición inicial en y [m]')\n",
        "y0 = float (input(\"\"))\n",
        "print ('Velocidad inicial en x [m/s]')\n",
        "Vx0 = float (input(\"\"))\n",
        "print ('Velocidad final en y [m/s]')\n",
        "Vy0= float (input(\"\"))\n",
        "\n",
        "\n",
        "\n",
        "print ('Inserte t deseado [s]')\n",
        "t = float (input(\"\"))\n",
        "t1 = np.arange(0 ,60, .01)\n",
        "\n",
        "#Impresión de datos en x\n",
        "print('La posición en x es ', function1(t), 'm')\n",
        "print('El valor numérico aproximado de la velocidad en x es ', function2(t), 'm/s')\n",
        "print('El valor numérico aproximado de la aceleración en x es ', function3(t), 'm/s^2')\n",
        "#Impresión de datos en y\n",
        "print('La posición en y es', function4(t), 'm')\n",
        "print('El valor numérico aproximado de la velocidad en y es  ', function5(t), 'm/s')\n",
        "print('El valor numérico aproximado de la aceleración en y es ', function6(t), 'm/s^2')\n",
        "#print('el vector de posición es', function1(t)',',function4(t))\n",
        "#print('el vector de velocidad es', function2(t)',',function5(t))\n",
        "\n",
        "print('La magnitud norma del vector de velocidad es', np.sqrt(function2(t)**2+function5(t)**2))\n",
        "print('La magnitud norma del vector de posición es', np.sqrt(function1(t)**2+function4(t)**2))\n",
        "print('La magnitud norma del vector de aceleración es', np.sqrt(function3(t)**2+function6(t)**2))\n",
        "#Impresión de gráficas\n",
        "plt.plot(t1, function1(t1), label=\"posicion en x\")\n",
        "plt.plot(t1, function2(t1), label=\"velocidad en x\")\n",
        "plt.plot(t1, function3(t1), label=\"aceleración en x\")\n",
        "plt.plot(t1, function4(t1), label=\"posicion en y\")\n",
        "plt.plot(t1, function5(t1), label=\"velocidad en y\")\n",
        "plt.plot(t1, function6(t1), label=\"aceleración en y\")\n",
        "plt.xlabel (\"(t) [s]\")\n",
        "plt.ylabel (\"f(t)   [s]\")\n",
        "plt.legend()\n",
        "plt.show()\n",
        "\n",
        "\n",
        "\n",
        "\n"
      ],
      "execution_count": null,
      "outputs": [
        {
          "output_type": "stream",
          "name": "stdout",
          "text": [
            "Inserte la delta de cambio h\n",
            ".0001\n",
            "Posición inicial en x [m]\n",
            "2\n",
            "Posición inicial en y [m]\n",
            "5\n",
            "Velocidad inicial en x [m/s]\n",
            "50\n",
            "Velocidad final en y [m/s]\n",
            "20\n",
            "Inserte t deseado [s]\n",
            "2\n",
            "La posición en x es  102.0 m\n",
            "El valor numérico aproximado de la velocidad en x es  50.000000000096634 m/s\n",
            "El valor numérico aproximado de la aceleración en x es  0.0 m/s^2\n",
            "La posición en y es 25.4 m\n",
            "El valor numérico aproximado de la velocidad en y es   0.39950999997984127 m/s\n",
            "El valor numérico aproximado de la aceleración en y es  -9.799999745041532 m/s^2\n",
            "La magnitud norma del vector de velocidad es 50.00159605702349\n",
            "La magnitud norma del vector de posición es 105.11498465965735\n",
            "La magnitud norma del vector de aceleración es 9.799999745041532\n"
          ]
        },
        {
          "output_type": "display_data",
          "data": {
            "image/png": "[encoded data removed]",
            "text/plain": [
              "<Figure size 432x288 with 1 Axes>"
            ]
          },
          "metadata": {
            "needs_background": "light"
          }
        }
      ]
    }
  ]
}