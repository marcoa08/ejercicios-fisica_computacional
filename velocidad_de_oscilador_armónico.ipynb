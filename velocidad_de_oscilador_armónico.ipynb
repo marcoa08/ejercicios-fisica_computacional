{
  "nbformat": 4,
  "nbformat_minor": 0,
  "metadata": {
    "colab": {
      "name": "velocidad de oscilador armónico.ipynb",
      "provenance": [],
      "collapsed_sections": [],
      "authorship_tag": "ABX9TyMuwc5xq6HR0HxPJOfm6pjP",
      "include_colab_link": true
    },
    "kernelspec": {
      "display_name": "Python 3",
      "name": "python3"
    },
    "language_info": {
      "name": "python"
    }
  },
  "cells": [
    {
      "cell_type": "markdown",
      "metadata": {
        "id": "view-in-github",
        "colab_type": "text"
      },
      "source": [
        "<a href=\"https://colab.research.google.com/github/marcoa08/ejercicios-fisica_computacional/blob/main/velocidad_de_oscilador_arm%C3%B3nico.ipynb\" target=\"_parent\"><img src=\"https://colab.research.google.com/assets/colab-badge.svg\" alt=\"Open In Colab\"/></a>"
      ]
    },
    {
      "cell_type": "code",
      "metadata": {
        "colab": {
          "base_uri": "https://localhost:8080/"
        },
        "id": "xwcC4hasgJoo",
        "outputId": "ef0d8071-53dc-4256-990e-4c43b96594b7"
      },
      "source": [
        "#Oscilador armónico simple\n",
        "#Autor: Marco Antonio Aguilar Cárcamo\n",
        "#Fecha: 01/09/21\n",
        "\n",
        "import math\n",
        "\n",
        "T= 2 #periodo\n",
        "t= 3 #tiempo\n",
        "A= 5 #amplitud\n",
        "w =(2*math.pi)/T #w es la frecuencia angular\n",
        "print ('inserte el delta de cambio')\n",
        "h= float (input(\"\"))\n",
        "fx_1 = A*(math.sin(w*t))\n",
        "fx = (A*(math.sin(w*(t+h))) - A*(math.sin(w*(t))))/h\n",
        "print ('la velocidad del oscilador es', fx, 'en el intervalo de', h, 'segundos')\n",
        "\n",
        "\n",
        "\n",
        "\n",
        "\n",
        "\n",
        "\n"
      ],
      "execution_count": 17,
      "outputs": [
        {
          "output_type": "stream",
          "name": "stdout",
          "text": [
            "inserte el delta de cambio\n",
            ".5\n",
            "la velocidad del oscilador es -10.000000000000004 en el intervalo de 0.5 segundos\n"
          ]
        }
      ]
    }
  ]
}