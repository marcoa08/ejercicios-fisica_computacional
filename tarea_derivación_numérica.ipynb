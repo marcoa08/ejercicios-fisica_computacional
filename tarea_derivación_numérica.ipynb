{
  "nbformat": 4,
  "nbformat_minor": 0,
  "metadata": {
    "colab": {
      "name": "tarea derivación numérica",
      "provenance": [],
      "collapsed_sections": [],
      "authorship_tag": "ABX9TyNZAR0dRWxTeX9sMmLsfrmW",
      "include_colab_link": true
    },
    "kernelspec": {
      "display_name": "Python 3",
      "name": "python3"
    },
    "language_info": {
      "name": "python"
    }
  },
  "cells": [
    {
      "cell_type": "markdown",
      "metadata": {
        "id": "view-in-github",
        "colab_type": "text"
      },
      "source": [
        "<a href=\"https://colab.research.google.com/github/marcoa08/ejercicios-fisica_computacional/blob/main/tarea_derivaci%C3%B3n_num%C3%A9rica.ipynb\" target=\"_parent\"><img src=\"https://colab.research.google.com/assets/colab-badge.svg\" alt=\"Open In Colab\"/></a>"
      ]
    },
    {
      "cell_type": "markdown",
      "metadata": {
        "id": "U5nSyxYquEP0"
      },
      "source": [
        "\n",
        "#Lo que hay que hacer\n",
        "  \n",
        "\n",
        "*   Graficar la función $f(x)$= $e^{2t} -\\frac{3}{2}$, para $t \\in [6,15]$\n",
        "\n",
        "*    Realizar un programa que encuentre la derivada de numerica de $f(x)$ para un tiempo arbitrario -leer valor- y hacer corrida usando $t=14s$\n",
        "\n",
        "*   Graficar $f(x)$, la derivada numerica de $f(x)$ y la derivada exacta de $f(x)$ para $t \\in [6,15]$\n",
        "\n",
        "\n",
        "\n",
        "\n"
      ]
    },
    {
      "cell_type": "code",
      "metadata": {
        "colab": {
          "base_uri": "https://localhost:8080/",
          "height": 276
        },
        "id": "xwcC4hasgJoo",
        "outputId": "d92c0e84-d214-47ca-ec29-fe812d3a52f6"
      },
      "source": [
        "#tarea derivación numérica\n",
        "#Autor: Marco Antonio Aguilar Cárcamo\n",
        "#Fecha: 30/08/21\n",
        "\n",
        "import matplotlib.pyplot as plt\n",
        "import numpy as np\n",
        "\n",
        "def f1(t):\n",
        "  return np.exp(2*t) - 3/2\n",
        "t1 = np.arange(6.00,15.00, .1)\n",
        "\n",
        "plt.plot(t1, f1(t1))\n",
        "plt.show()\n",
        "\n",
        "\n"
      ],
      "execution_count": 12,
      "outputs": [
        {
          "output_type": "display_data",
          "data": {
            "image/png": "[encoded data removed]",
            "text/plain": [
              "<Figure size 432x288 with 1 Axes>"
            ]
          },
          "metadata": {
            "needs_background": "light"
          }
        }
      ]
    },
    {
      "cell_type": "code",
      "metadata": {
        "colab": {
          "base_uri": "https://localhost:8080/"
        },
        "id": "sXyIQibZ987F",
        "outputId": "774bb7f2-6ca6-4ca1-f577-7fcb8b47250b"
      },
      "source": [
        "\n",
        "\n",
        "print ('inserte t deseado', '[s]')\n",
        "t = float (input(\"\"))\n",
        "print ('inserte la delta de cambio h')\n",
        "h= float (input(\"\"))\n",
        "\n",
        "f2 = ((np.exp(2*(t+h)) - 3/2) - (np.exp(2*t) - 3/2))/h  \n",
        "print(f2)"
      ],
      "execution_count": 51,
      "outputs": [
        {
          "output_type": "stream",
          "name": "stdout",
          "text": [
            "inserte t deseado [s]\n",
            "14\n",
            "inserte la delta de cambio h\n",
            "2\n",
            "38758351559194.61\n"
          ]
        }
      ]
    },
    {
      "cell_type": "code",
      "metadata": {
        "colab": {
          "base_uri": "https://localhost:8080/",
          "height": 310
        },
        "id": "PdbnZKkGw9-d",
        "outputId": "754926ab-6c93-4c2e-83ad-619be710628e"
      },
      "source": [
        "import matplotlib.pyplot as plt\n",
        "import numpy as np\n",
        "\n",
        "print ('inserte t deseado', '[s]')\n",
        "t = float (input(\"\"))\n",
        "h=.001 #delta de cambio\n",
        "def f1(t):\n",
        "  return np.exp(2*t) - 3/2\n",
        "t1 = np.arange(6.00,15.00, .1)\n",
        "def f2(t):\n",
        "  return ((np.exp(2*(t+h)) - 3/2) - (np.exp(2*t) - 3/2))/h  \n",
        "def f3(t):\n",
        "  return 2*t*np.exp(2*t)\n",
        "\n",
        "t1 = np.arange(6,15,.001)\n",
        "\n",
        "\n",
        "plt.plot(t1, f3(t1))\n",
        "plt.plot(t1, f1(t1))\n",
        "plt.plot(t1, f2(t1))\n",
        "plt.show()\n",
        "\n"
      ],
      "execution_count": 44,
      "outputs": [
        {
          "name": "stdout",
          "output_type": "stream",
          "text": [
            "inserte t deseado [s]\n",
            "5\n"
          ]
        },
        {
          "output_type": "display_data",
          "data": {
            "image/png": "[encoded data removed]",
            "text/plain": [
              "<Figure size 432x288 with 1 Axes>"
            ]
          },
          "metadata": {
            "needs_background": "light"
          }
        }
      ]
    }
  ]
}