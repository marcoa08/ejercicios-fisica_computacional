{
  "nbformat": 4,
  "nbformat_minor": 0,
  "metadata": {
    "colab": {
      "name": "oscilador armónico.ipynb",
      "provenance": [],
      "collapsed_sections": [],
      "authorship_tag": "ABX9TyNrkneigR/HOo0bXPgOnlwE",
      "include_colab_link": true
    },
    "kernelspec": {
      "display_name": "Python 3",
      "name": "python3"
    },
    "language_info": {
      "name": "python"
    }
  },
  "cells": [
    {
      "cell_type": "markdown",
      "metadata": {
        "id": "view-in-github",
        "colab_type": "text"
      },
      "source": [
        "<a href=\"https://colab.research.google.com/github/marcoa08/ejercicios-fisica_computacional/blob/main/oscilador_arm%C3%B3nico.ipynb\" target=\"_parent\"><img src=\"https://colab.research.google.com/assets/colab-badge.svg\" alt=\"Open In Colab\"/></a>"
      ]
    },
    {
      "cell_type": "code",
      "metadata": {
        "colab": {
          "background_save": true,
          "base_uri": "https://localhost:8080/"
        },
        "id": "xwcC4hasgJoo",
        "outputId": "a72e2eed-9102-45bf-ca14-0d4fd8e97680"
      },
      "source": [
        "#Oscilador armónico simple\n",
        "#Autor: Marco Antonio Aguilar Cárcamo\n",
        "#Fecha: 30/08/21\n",
        "\n",
        "import matplotlib.pyplot as plt\n",
        "import numpy as np\n",
        "\n",
        "def f1(A,w,t):\n",
        "  return A*(np.sin(w*t))\n",
        "t1 = np.arange(0.00,10.00,0.001)\n",
        "\n",
        "#Inicializar variables\n",
        "print ('Inserte la constante k del resorte [N*m]')\n",
        "k= float (input(\"\")) #constante de resorte\n",
        "print ('Inserte masa [kg]')\n",
        "m = float (input(\"\")) #masa\n",
        "print('Inserte el tiempo [s]')\n",
        "t= float (input(\"\"))\n",
        "print ('Inserte amplitud')\n",
        "A= float (input(\"\"))#amplitud\n",
        "\n",
        "w = np.sqrt(k/m) #w es la frecuencia angular\n",
        "\n",
        "\n",
        "plt.plot(t1, f1(A,w,t1))\n",
        "plt.xlabel('t', 'tiempo')\n",
        "plt.ylabel('x', 'posición')\n",
        "plt.show()\n"
      ],
      "execution_count": null,
      "outputs": [
        {
          "metadata": {
            "tags": null
          },
          "name": "stdout",
          "output_type": "stream",
          "text": [
            "Inserte la constante k del resorte [N*m]\n"
          ]
        }
      ]
    }
  ]
}