{
  "nbformat": 4,
  "nbformat_minor": 0,
  "metadata": {
    "colab": {
      "name": "oscilador armónico.ipynb",
      "provenance": [],
      "collapsed_sections": [],
      "authorship_tag": "ABX9TyMTf87a0slFgbhkz5OSdS8X",
      "include_colab_link": true
    },
    "kernelspec": {
      "display_name": "Python 3",
      "name": "python3"
    },
    "language_info": {
      "name": "python"
    }
  },
  "cells": [
    {
      "cell_type": "markdown",
      "metadata": {
        "id": "view-in-github",
        "colab_type": "text"
      },
      "source": [
        "<a href=\"https://colab.research.google.com/github/marcoa08/ejercicios-fisica_computacional/blob/main/oscilador_arm%C3%B3nico.ipynb\" target=\"_parent\"><img src=\"https://colab.research.google.com/assets/colab-badge.svg\" alt=\"Open In Colab\"/></a>"
      ]
    },
    {
      "cell_type": "code",
      "metadata": {
        "colab": {
          "base_uri": "https://localhost:8080/",
          "height": 415
        },
        "id": "xwcC4hasgJoo",
        "outputId": "8b55439d-5d70-4b54-9976-554fe1cd4613"
      },
      "source": [
        "#Oscilador armónico simple\n",
        "#Autor: Marco Antonio Aguilar Cárcamo\n",
        "#Fecha: 30/08/21\n",
        "\n",
        "import matplotlib.pyplot as plt\n",
        "import numpy as np\n",
        "\n",
        "def f1(A,w,t):\n",
        "  return A*(np.sin(w*t))\n",
        "t1 = np.arange(0.00,10.00,0.001)\n",
        "\n",
        "#Inicializar variables\n",
        "print ('Inserte la constante k del resorte [N*m]')\n",
        "k= float (input(\"\")) #constante de resorte\n",
        "print ('Inserte masa [kg]')\n",
        "m = float (input(\"\")) #masa\n",
        "print('Inserte el tiempo [s]')\n",
        "t= float (input(\"\"))\n",
        "print ('Inserte amplitud')\n",
        "A= float (input(\"\"))#amplitud\n",
        "\n",
        "w = np.sqrt(k/m) #w es la frecuencia angular\n",
        "\n",
        "f1\n",
        "\n",
        "plt.plot(t1, f1(A,w,t1))\n",
        "plt.xlabel('tiempo')\n",
        "plt.ylabel('posición', 'x')\n",
        "plt.show()\n",
        "\n",
        "\n"
      ],
      "execution_count": null,
      "outputs": [
        {
          "name": "stdout",
          "output_type": "stream",
          "text": [
            "Inserte la constante k del resorte [N*m]\n",
            "5\n",
            "Inserte masa [kg]\n",
            "6\n",
            "Inserte el tiempo [s]\n",
            "6\n",
            "Inserte amplitud\n",
            "6\n"
          ]
        },
        {
          "output_type": "display_data",
          "data": {
            "image/png": "[encoded data removed]",
            "text/plain": [
              "<Figure size 432x288 with 1 Axes>"
            ]
          },
          "metadata": {
            "needs_background": "light"
          }
        }
      ]
    },
    {
      "cell_type": "code",
      "metadata": {
        "colab": {
          "base_uri": "https://localhost:8080/"
        },
        "id": "dzSSMuSsJkn5",
        "outputId": "15dbdd73-45d2-4fe5-8347-5eeadc6ec977"
      },
      "source": [
        "#Oscilador armónico simple\n",
        "#Autor: Marco Antonio Aguilar Cárcamo\n",
        "#Fecha: 01/09/21\n",
        "\n",
        "import math\n",
        "\n",
        "T= 2 #periodo\n",
        "t= 3 #tiempo\n",
        "A= 5 #amplitud\n",
        "w =(2*math.pi)/T #w es la frecuencia angular\n",
        "print ('inserte el delta de cambio')\n",
        "h= float (input(\"\"))\n",
        "fx_1 = A*(math.sin(w*t))\n",
        "fx = (A*(math.sin(w*(t+h))) - A*(math.sin(w*(t))))/h\n",
        "print ('la velocidad del oscilador es', fx)"
      ],
      "execution_count": 1,
      "outputs": [
        {
          "output_type": "stream",
          "name": "stdout",
          "text": [
            "inserte el delta de cambio\n",
            ".5\n",
            "la velocidad del oscilador es -10.000000000000004\n"
          ]
        }
      ]
    }
  ]
}